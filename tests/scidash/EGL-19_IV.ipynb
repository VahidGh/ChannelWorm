{
 "cells": [
  {
   "cell_type": "markdown",
   "metadata": {},
   "source": [
    "# Validating a channel model IV curve with data from an experiment"
   ]
  },
  {
   "cell_type": "code",
   "execution_count": null,
   "metadata": {},
   "outputs": [],
   "source": [
    "import rickpy\n",
    "rickpy.use_dev_packages(['scidash/sciunit','scidash/neuronunit','neuroml/pyNeuroML'])\n",
    "\n",
    "# Imports and preliminaries.  \n",
    "%matplotlib inline\n",
    "import os,sys\n",
    "import numpy as np\n",
    "import quantities as pq\n",
    "\n",
    "CW_HOME = os.path.split(os.path.realpath(os.path.pardir))[0] # Location of your ChannelWorm repo\n",
    "sys.path.insert(1,CW_HOME)\n",
    "\n",
    "from channelworm.fitter.initiators import Initiator"
   ]
  },
  {
   "cell_type": "markdown",
   "metadata": {},
   "source": [
    "## Compare the IV curve predicted from the channel model to that observed from the data"
   ]
  },
  {
   "cell_type": "code",
   "execution_count": null,
   "metadata": {},
   "outputs": [],
   "source": [
    "from neuronunit.tests.channel import IVCurvePeakTest\n",
    "from neuronunit.models.channel import ChannelModel"
   ]
  },
  {
   "cell_type": "code",
   "execution_count": null,
   "metadata": {},
   "outputs": [],
   "source": [
    "# Instantiate the model\n",
    "channel_model_name = 'EGL-19.channel'\n",
    "channel_id = 'ca_boyle'\n",
    "channel_file_path = os.path.join(CW_HOME,'models','%s.nml' % channel_model_name)\n",
    "\n",
    "model = ChannelModel(channel_file_path,channel_index=0,name=channel_model_name.split('.')[0])"
   ]
  },
  {
   "cell_type": "code",
   "execution_count": null,
   "metadata": {},
   "outputs": [],
   "source": [
    "# Get the experiment data from ChannelWorm and instantiate the test\n",
    "\n",
    "import os, sys\n",
    "import django\n",
    "\n",
    "sys.path.append(os.path.join(CW_HOME,'channelworm')) # Change the path if needed\n",
    "os.environ.setdefault(\n",
    "    \"DJANGO_SETTINGS_MODULE\",\n",
    "    \"web_app.settings\"\n",
    ")\n",
    "django.setup()\n",
    "\n",
    "from channelworm.ion_channel.models import GraphData\n",
    "\n",
    "doi = '10.1083/jcb.200203055'\n",
    "fig = '2B'\n",
    "sample_data = GraphData.objects.get(graph__experiment__reference__doi=doi, graph__figure_ref_address=fig)\n",
    "obs = list(zip(*sample_data.asarray())) \n",
    "observation = {'i/C':obs[1]*pq.A/pq.F, 'v':obs[0]*pq.mV}\n",
    "cell_capacitance = 1e-13 * pq.F # Capacitance is arbitrary if IV curves are scaled.  \n",
    "observation['i'] = observation['i/C']*cell_capacitance\n",
    "\n",
    "test = IVCurvePeakTest(observation, scale=True)"
   ]
  },
  {
   "cell_type": "code",
   "execution_count": null,
   "metadata": {},
   "outputs": [],
   "source": [
    "# Judge the model output against the experimental data\n",
    "score = test.judge(model)\n",
    "score.summarize()\n",
    "print(\"The score was computed according to '%s' with raw value %s and pass cutoff %s\" \\\n",
    "    % (score.description,score.raw,test.converter.cutoff))\n",
    "print('The scaling factor for the model IV curve was %.3g' % score.related_data['scale_factor'])"
   ]
  },
  {
   "cell_type": "code",
   "execution_count": null,
   "metadata": {},
   "outputs": [],
   "source": [
    "import matplotlib as mpl\n",
    "import matplotlib.pyplot as plt\n",
    "mpl.rcParams.update({'font.size':16, 'lines.linewidth':3})\n",
    "score.plot()\n",
    "plt.tight_layout()\n",
    "plt.savefig('/Users/rgerkin/Desktop/iv_curves.eps',format='eps')"
   ]
  },
  {
   "cell_type": "code",
   "execution_count": null,
   "metadata": {},
   "outputs": [],
   "source": []
  }
 ],
 "metadata": {
  "kernelspec": {
   "display_name": "Python 3",
   "language": "python",
   "name": "python3"
  },
  "language_info": {
   "codemirror_mode": {
    "name": "ipython",
    "version": 3
   },
   "file_extension": ".py",
   "mimetype": "text/x-python",
   "name": "python",
   "nbconvert_exporter": "python",
   "pygments_lexer": "ipython3",
   "version": "3.6.3"
  }
 },
 "nbformat": 4,
 "nbformat_minor": 2
}
